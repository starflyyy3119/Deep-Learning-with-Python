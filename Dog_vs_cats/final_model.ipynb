{
 "cells": [
  {
   "cell_type": "code",
   "execution_count": 1,
   "metadata": {},
   "outputs": [],
   "source": [
    "import warnings\n",
    "warnings.filterwarnings('ignore')"
   ]
  },
  {
   "cell_type": "code",
   "execution_count": 28,
   "metadata": {},
   "outputs": [],
   "source": [
    "import os, shutil\n",
    "\n",
    "test_dir = '/home/starflyyy/Deep learning/Dog_vs_cats/test1'\n",
    "original_dir = '/home/starflyyy/Deep learning/Dog_vs_cats/train'\n",
    "base_dir = '/home/starflyyy/Deep learning/Dog_vs_cats/final_train_data'\n",
    "# os.mkdir(base_dir)\n",
    "#os.mkdir(test_dir)"
   ]
  },
  {
   "cell_type": "code",
   "execution_count": 3,
   "metadata": {},
   "outputs": [],
   "source": [
    "# train_cats_dir = os.path.join(base_dir, 'cats')\n",
    "# os.mkdir(train_cats_dir)\n",
    "\n",
    "# train_dogs_dir = os.path.join(base_dir, 'dogs')\n",
    "# os.mkdir(train_dogs_dir)"
   ]
  },
  {
   "cell_type": "code",
   "execution_count": 4,
   "metadata": {},
   "outputs": [],
   "source": [
    "# fnames = ['cat.{}.jpg'.format(i) for i in range(12500)]\n",
    "# for fname in fnames:\n",
    "#     src = os.path.join(original_dir, fname)\n",
    "#     dst = os.path.join(train_cats_dir, fname)\n",
    "#     shutil.copyfile(src, dst)"
   ]
  },
  {
   "cell_type": "code",
   "execution_count": 5,
   "metadata": {},
   "outputs": [],
   "source": [
    "# fnames = ['dog.{}.jpg'.format(i) for i in range(12500)]\n",
    "# for fname in fnames:\n",
    "#     src = os.path.join(original_dir, fname)\n",
    "#     dst = os.path.join(train_dogs_dir, fname)\n",
    "#     shutil.copyfile(src, dst)"
   ]
  },
  {
   "cell_type": "code",
   "execution_count": 24,
   "metadata": {},
   "outputs": [],
   "source": [
    "test1_dir = '/home/starflyyy/Deep learning/Dog_vs_cats/test1'\n",
    "fnames = ['{}.jpg'.format(i) for i in range(1, 12501)]\n",
    "for fname in fnames:\n",
    "    src = os.path.join(test1_dir, fname)\n",
    "    dst = os.path.join(test_dir, fname)\n",
    "    shutil.copyfile(src, dst)"
   ]
  },
  {
   "cell_type": "code",
   "execution_count": 8,
   "metadata": {},
   "outputs": [
    {
     "name": "stdout",
     "output_type": "stream",
     "text": [
      "Found 25000 images belonging to 2 classes.\n"
     ]
    }
   ],
   "source": [
    "from keras import layers\n",
    "from keras import models\n",
    "from keras import optimizers\n",
    "from keras.applications import VGG16\n",
    "from keras.preprocessing.image import ImageDataGenerator\n",
    "\n",
    "train_datagen = ImageDataGenerator(rescale = 1. / 255,\n",
    "                                   rotation_range = 40,\n",
    "                                   width_shift_range = 0.2,\n",
    "                                   height_shift_range = 0.2,\n",
    "                                   shear_range = 0.2,\n",
    "                                   zoom_range = 0.2,\n",
    "                                   horizontal_flip = True,\n",
    "                                   fill_mode = 'nearest')\n",
    "\n",
    "train_generator = train_datagen.flow_from_directory(base_dir, \n",
    "                                                    target_size = (150, 150), \n",
    "                                                    batch_size = 20, \n",
    "                                                    class_mode = 'binary')"
   ]
  },
  {
   "cell_type": "code",
   "execution_count": 29,
   "metadata": {},
   "outputs": [
    {
     "name": "stdout",
     "output_type": "stream",
     "text": [
      "Found 12500 images belonging to 1 classes.\n"
     ]
    }
   ],
   "source": [
    "test_datagen = ImageDataGenerator(rescale = 1. / 255)\n",
    "test_generator = test_datagen.flow_from_directory(test_dir,\n",
    "                                                  target_size = (150, 150),\n",
    "                                                  batch_size = 20,\n",
    "                                                  class_mode = None\n",
    "                                                 )"
   ]
  },
  {
   "cell_type": "code",
   "execution_count": 20,
   "metadata": {},
   "outputs": [
    {
     "data": {
      "text/plain": [
       "'/home/starflyyy/Deep learning/Dog_vs_cats/test1'"
      ]
     },
     "execution_count": 20,
     "metadata": {},
     "output_type": "execute_result"
    }
   ],
   "source": [
    "test_dir"
   ]
  },
  {
   "cell_type": "code",
   "execution_count": 9,
   "metadata": {},
   "outputs": [
    {
     "name": "stdout",
     "output_type": "stream",
     "text": [
      "WARNING:tensorflow:From /home/starflyyy/.local/lib/python3.6/site-packages/keras/backend/tensorflow_backend.py:4070: The name tf.nn.max_pool is deprecated. Please use tf.nn.max_pool2d instead.\n",
      "\n",
      "Model: \"vgg16\"\n",
      "_________________________________________________________________\n",
      "Layer (type)                 Output Shape              Param #   \n",
      "=================================================================\n",
      "input_1 (InputLayer)         (None, 150, 150, 3)       0         \n",
      "_________________________________________________________________\n",
      "block1_conv1 (Conv2D)        (None, 150, 150, 64)      1792      \n",
      "_________________________________________________________________\n",
      "block1_conv2 (Conv2D)        (None, 150, 150, 64)      36928     \n",
      "_________________________________________________________________\n",
      "block1_pool (MaxPooling2D)   (None, 75, 75, 64)        0         \n",
      "_________________________________________________________________\n",
      "block2_conv1 (Conv2D)        (None, 75, 75, 128)       73856     \n",
      "_________________________________________________________________\n",
      "block2_conv2 (Conv2D)        (None, 75, 75, 128)       147584    \n",
      "_________________________________________________________________\n",
      "block2_pool (MaxPooling2D)   (None, 37, 37, 128)       0         \n",
      "_________________________________________________________________\n",
      "block3_conv1 (Conv2D)        (None, 37, 37, 256)       295168    \n",
      "_________________________________________________________________\n",
      "block3_conv2 (Conv2D)        (None, 37, 37, 256)       590080    \n",
      "_________________________________________________________________\n",
      "block3_conv3 (Conv2D)        (None, 37, 37, 256)       590080    \n",
      "_________________________________________________________________\n",
      "block3_pool (MaxPooling2D)   (None, 18, 18, 256)       0         \n",
      "_________________________________________________________________\n",
      "block4_conv1 (Conv2D)        (None, 18, 18, 512)       1180160   \n",
      "_________________________________________________________________\n",
      "block4_conv2 (Conv2D)        (None, 18, 18, 512)       2359808   \n",
      "_________________________________________________________________\n",
      "block4_conv3 (Conv2D)        (None, 18, 18, 512)       2359808   \n",
      "_________________________________________________________________\n",
      "block4_pool (MaxPooling2D)   (None, 9, 9, 512)         0         \n",
      "_________________________________________________________________\n",
      "block5_conv1 (Conv2D)        (None, 9, 9, 512)         2359808   \n",
      "_________________________________________________________________\n",
      "block5_conv2 (Conv2D)        (None, 9, 9, 512)         2359808   \n",
      "_________________________________________________________________\n",
      "block5_conv3 (Conv2D)        (None, 9, 9, 512)         2359808   \n",
      "_________________________________________________________________\n",
      "block5_pool (MaxPooling2D)   (None, 4, 4, 512)         0         \n",
      "=================================================================\n",
      "Total params: 14,714,688\n",
      "Trainable params: 14,714,688\n",
      "Non-trainable params: 0\n",
      "_________________________________________________________________\n"
     ]
    }
   ],
   "source": [
    "conv_base = VGG16(weights = 'imagenet', include_top = False, input_shape = (150, 150, 3))\n",
    "conv_base.summary()"
   ]
  },
  {
   "cell_type": "code",
   "execution_count": 10,
   "metadata": {},
   "outputs": [
    {
     "name": "stdout",
     "output_type": "stream",
     "text": [
      "Model: \"sequential_1\"\n",
      "_________________________________________________________________\n",
      "Layer (type)                 Output Shape              Param #   \n",
      "=================================================================\n",
      "vgg16 (Model)                (None, 4, 4, 512)         14714688  \n",
      "_________________________________________________________________\n",
      "flatten_1 (Flatten)          (None, 8192)              0         \n",
      "_________________________________________________________________\n",
      "dense_1 (Dense)              (None, 256)               2097408   \n",
      "_________________________________________________________________\n",
      "dense_2 (Dense)              (None, 1)                 257       \n",
      "=================================================================\n",
      "Total params: 16,812,353\n",
      "Trainable params: 16,812,353\n",
      "Non-trainable params: 0\n",
      "_________________________________________________________________\n"
     ]
    }
   ],
   "source": [
    "model = models.Sequential()\n",
    "model.add(conv_base)\n",
    "model.add(layers.Flatten())\n",
    "model.add(layers.Dense(256, activation = 'relu'))\n",
    "model.add(layers.Dense(1, activation = 'sigmoid'))\n",
    "model.summary()"
   ]
  },
  {
   "cell_type": "code",
   "execution_count": 11,
   "metadata": {},
   "outputs": [
    {
     "name": "stdout",
     "output_type": "stream",
     "text": [
      "Model: \"sequential_1\"\n",
      "_________________________________________________________________\n",
      "Layer (type)                 Output Shape              Param #   \n",
      "=================================================================\n",
      "vgg16 (Model)                (None, 4, 4, 512)         14714688  \n",
      "_________________________________________________________________\n",
      "flatten_1 (Flatten)          (None, 8192)              0         \n",
      "_________________________________________________________________\n",
      "dense_1 (Dense)              (None, 256)               2097408   \n",
      "_________________________________________________________________\n",
      "dense_2 (Dense)              (None, 1)                 257       \n",
      "=================================================================\n",
      "Total params: 16,812,353\n",
      "Trainable params: 9,177,089\n",
      "Non-trainable params: 7,635,264\n",
      "_________________________________________________________________\n"
     ]
    }
   ],
   "source": [
    "conv_base.trainable = True\n",
    "\n",
    "set_trainable = False\n",
    "for layer in conv_base.layers:\n",
    "    if layer.name == 'block5_conv1':\n",
    "        set_trainable = True\n",
    "    if set_trainable:\n",
    "        layer.trainable = True\n",
    "    else:\n",
    "        layer.trainable = False\n",
    "\n",
    "model.summary()"
   ]
  },
  {
   "cell_type": "code",
   "execution_count": 12,
   "metadata": {},
   "outputs": [
    {
     "name": "stdout",
     "output_type": "stream",
     "text": [
      "WARNING:tensorflow:From /home/starflyyy/.local/lib/python3.6/site-packages/tensorflow/python/ops/nn_impl.py:180: add_dispatch_support.<locals>.wrapper (from tensorflow.python.ops.array_ops) is deprecated and will be removed in a future version.\n",
      "Instructions for updating:\n",
      "Use tf.where in 2.0, which has the same broadcast rule as np.where\n",
      "WARNING:tensorflow:From /home/starflyyy/.local/lib/python3.6/site-packages/keras/backend/tensorflow_backend.py:422: The name tf.global_variables is deprecated. Please use tf.compat.v1.global_variables instead.\n",
      "\n",
      "Epoch 1/30\n",
      "625/625 [==============================] - 103s 165ms/step - loss: 0.3386 - acc: 0.8501\n",
      "Epoch 2/30\n",
      "625/625 [==============================] - 102s 163ms/step - loss: 0.2372 - acc: 0.9023\n",
      "Epoch 3/30\n",
      "625/625 [==============================] - 102s 164ms/step - loss: 0.2056 - acc: 0.9130\n",
      "Epoch 4/30\n",
      "625/625 [==============================] - 101s 161ms/step - loss: 0.1985 - acc: 0.9166\n",
      "Epoch 5/30\n",
      "625/625 [==============================] - 98s 157ms/step - loss: 0.1744 - acc: 0.9262\n",
      "Epoch 6/30\n",
      "625/625 [==============================] - 99s 159ms/step - loss: 0.1803 - acc: 0.9289\n",
      "Epoch 7/30\n",
      "625/625 [==============================] - 102s 163ms/step - loss: 0.1632 - acc: 0.9355\n",
      "Epoch 8/30\n",
      "625/625 [==============================] - 103s 164ms/step - loss: 0.1680 - acc: 0.9342\n",
      "Epoch 9/30\n",
      "625/625 [==============================] - 103s 165ms/step - loss: 0.1500 - acc: 0.9397\n",
      "Epoch 10/30\n",
      "625/625 [==============================] - 103s 165ms/step - loss: 0.1701 - acc: 0.9378\n",
      "Epoch 11/30\n",
      "625/625 [==============================] - 103s 165ms/step - loss: 0.1628 - acc: 0.9367\n",
      "Epoch 12/30\n",
      "625/625 [==============================] - 103s 165ms/step - loss: 0.1663 - acc: 0.9350\n",
      "Epoch 13/30\n",
      "625/625 [==============================] - 103s 165ms/step - loss: 0.1578 - acc: 0.9407\n",
      "Epoch 14/30\n",
      "625/625 [==============================] - 103s 165ms/step - loss: 0.1685 - acc: 0.9379\n",
      "Epoch 15/30\n",
      "625/625 [==============================] - 103s 165ms/step - loss: 0.1645 - acc: 0.9372\n",
      "Epoch 16/30\n",
      "625/625 [==============================] - 104s 166ms/step - loss: 0.1576 - acc: 0.9380\n",
      "Epoch 17/30\n",
      "625/625 [==============================] - 104s 166ms/step - loss: 0.1649 - acc: 0.9383\n",
      "Epoch 18/30\n",
      "625/625 [==============================] - 104s 166ms/step - loss: 0.1720 - acc: 0.9379\n",
      "Epoch 19/30\n",
      "625/625 [==============================] - 103s 165ms/step - loss: 0.1651 - acc: 0.9390\n",
      "Epoch 20/30\n",
      "625/625 [==============================] - 103s 165ms/step - loss: 0.1626 - acc: 0.9415\n",
      "Epoch 21/30\n",
      "625/625 [==============================] - 104s 166ms/step - loss: 0.1705 - acc: 0.9384\n",
      "Epoch 22/30\n",
      "625/625 [==============================] - 104s 166ms/step - loss: 0.1571 - acc: 0.9423\n",
      "Epoch 23/30\n",
      "625/625 [==============================] - 104s 166ms/step - loss: 0.1655 - acc: 0.9395\n",
      "Epoch 24/30\n",
      "625/625 [==============================] - 104s 166ms/step - loss: 0.1720 - acc: 0.9355\n",
      "Epoch 25/30\n",
      "625/625 [==============================] - 104s 167ms/step - loss: 0.1646 - acc: 0.9410\n",
      "Epoch 26/30\n",
      "625/625 [==============================] - 104s 167ms/step - loss: 0.1744 - acc: 0.9381\n",
      "Epoch 27/30\n",
      "625/625 [==============================] - 104s 167ms/step - loss: 0.1677 - acc: 0.9397\n",
      "Epoch 28/30\n",
      "625/625 [==============================] - 104s 166ms/step - loss: 0.1621 - acc: 0.9439\n",
      "Epoch 29/30\n",
      "625/625 [==============================] - 104s 166ms/step - loss: 0.1715 - acc: 0.9430\n",
      "Epoch 30/30\n",
      "625/625 [==============================] - 104s 167ms/step - loss: 0.1703 - acc: 0.9433\n"
     ]
    }
   ],
   "source": [
    "model.compile(loss = 'binary_crossentropy', optimizer = optimizers.RMSprop(lr = 2e-5), metrics = ['acc'])\n",
    "\n",
    "history = model.fit_generator(train_generator, steps_per_epoch = 625, epochs = 30)"
   ]
  },
  {
   "cell_type": "code",
   "execution_count": 15,
   "metadata": {},
   "outputs": [],
   "source": [
    "model.save('cats_and_dogs_final.h5')"
   ]
  },
  {
   "cell_type": "code",
   "execution_count": 16,
   "metadata": {},
   "outputs": [
    {
     "data": {
      "image/png": "[encoded data removed]",
      "text/plain": [
       "<matplotlib.figure.Figure at 0x7f1047542d30>"
      ]
     },
     "metadata": {
      "needs_background": "light"
     },
     "output_type": "display_data"
    }
   ],
   "source": [
    "import matplotlib.pyplot as plt\n",
    "%matplotlib inline\n",
    "acc = history.history['acc']\n",
    "loss = history.history['loss']\n",
    "\n",
    "epochs = range(1, 31)\n",
    "\n",
    "plt.plot(epochs, acc, 'bo', label = 'Training acc')\n",
    "plt.plot(epochs, loss, 'b', label = 'Training loss')\n",
    "plt.title('Training acc and loss')\n",
    "plt.legend()\n",
    "\n",
    "plt.show()"
   ]
  },
  {
   "cell_type": "code",
   "execution_count": 32,
   "metadata": {},
   "outputs": [],
   "source": [
    "predict = model.predict_generator(test_generator)"
   ]
  },
  {
   "cell_type": "code",
   "execution_count": 33,
   "metadata": {},
   "outputs": [
    {
     "data": {
      "text/plain": [
       "12500"
      ]
     },
     "execution_count": 33,
     "metadata": {},
     "output_type": "execute_result"
    }
   ],
   "source": [
    "len(predict)"
   ]
  },
  {
   "cell_type": "code",
   "execution_count": 36,
   "metadata": {},
   "outputs": [
    {
     "data": {
      "text/plain": [
       "array([[1.],\n",
       "       [1.],\n",
       "       [0.],\n",
       "       ...,\n",
       "       [1.],\n",
       "       [0.],\n",
       "       [0.]], dtype=float32)"
      ]
     },
     "execution_count": 36,
     "metadata": {},
     "output_type": "execute_result"
    }
   ],
   "source": [
    "for i in range(12500):\n",
    "    if predict[i] < 0.5:\n",
    "        predict[i] = 0\n",
    "    else:\n",
    "        predict[i] = 1\n",
    "predict"
   ]
  },
  {
   "cell_type": "code",
   "execution_count": 42,
   "metadata": {},
   "outputs": [],
   "source": [
    "predict = predict.astype(int)"
   ]
  },
  {
   "cell_type": "code",
   "execution_count": 44,
   "metadata": {},
   "outputs": [],
   "source": [
    "import pandas as pd\n",
    "index = [i for i in range(1, 12501)]\n",
    "save = pd.DataFrame(predict)\n",
    "save.to_csv('test3.csv', header = False, index = False)"
   ]
  }
 ],
 "metadata": {
  "kernelspec": {
   "display_name": "Python 3",
   "language": "python",
   "name": "python3"
  },
  "language_info": {
   "codemirror_mode": {
    "name": "ipython",
    "version": 3
   },
   "file_extension": ".py",
   "mimetype": "text/x-python",
   "name": "python",
   "nbconvert_exporter": "python",
   "pygments_lexer": "ipython3",
   "version": "3.6.8"
  }
 },
 "nbformat": 4,
 "nbformat_minor": 2
}
