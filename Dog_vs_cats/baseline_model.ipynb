{
 "cells": [
  {
   "cell_type": "code",
   "execution_count": 1,
   "metadata": {},
   "outputs": [],
   "source": [
    "import warnings\n",
    "warnings.filterwarnings('ignore')"
   ]
  },
  {
   "cell_type": "code",
   "execution_count": 2,
   "metadata": {},
   "outputs": [
    {
     "name": "stderr",
     "output_type": "stream",
     "text": [
      "Using TensorFlow backend.\n"
     ]
    },
    {
     "name": "stdout",
     "output_type": "stream",
     "text": [
      "WARNING:tensorflow:From /home/starflyyy/.local/lib/python3.6/site-packages/keras/backend/tensorflow_backend.py:4070: The name tf.nn.max_pool is deprecated. Please use tf.nn.max_pool2d instead.\n",
      "\n",
      "Model: \"sequential_1\"\n",
      "_________________________________________________________________\n",
      "Layer (type)                 Output Shape              Param #   \n",
      "=================================================================\n",
      "conv2d_1 (Conv2D)            (None, 148, 148, 32)      896       \n",
      "_________________________________________________________________\n",
      "max_pooling2d_1 (MaxPooling2 (None, 74, 74, 32)        0         \n",
      "_________________________________________________________________\n",
      "conv2d_2 (Conv2D)            (None, 72, 72, 64)        18496     \n",
      "_________________________________________________________________\n",
      "max_pooling2d_2 (MaxPooling2 (None, 36, 36, 64)        0         \n",
      "_________________________________________________________________\n",
      "conv2d_3 (Conv2D)            (None, 34, 34, 128)       73856     \n",
      "_________________________________________________________________\n",
      "max_pooling2d_3 (MaxPooling2 (None, 17, 17, 128)       0         \n",
      "_________________________________________________________________\n",
      "conv2d_4 (Conv2D)            (None, 15, 15, 128)       147584    \n",
      "_________________________________________________________________\n",
      "max_pooling2d_4 (MaxPooling2 (None, 7, 7, 128)         0         \n",
      "_________________________________________________________________\n",
      "flatten_1 (Flatten)          (None, 6272)              0         \n",
      "_________________________________________________________________\n",
      "dense_1 (Dense)              (None, 512)               3211776   \n",
      "_________________________________________________________________\n",
      "dense_2 (Dense)              (None, 1)                 513       \n",
      "=================================================================\n",
      "Total params: 3,453,121\n",
      "Trainable params: 3,453,121\n",
      "Non-trainable params: 0\n",
      "_________________________________________________________________\n"
     ]
    }
   ],
   "source": [
    "from keras import layers\n",
    "from keras import models\n",
    "\n",
    "model = models.Sequential()\n",
    "model.add(layers.Conv2D(32, (3, 3), activation = 'relu', input_shape = (150, 150, 3)))\n",
    "model.add(layers.MaxPooling2D((2, 2)))\n",
    "model.add(layers.Conv2D(64, (3, 3), activation = 'relu'))\n",
    "model.add(layers.MaxPooling2D((2, 2)))\n",
    "model.add(layers.Conv2D(128, (3, 3), activation = 'relu'))\n",
    "model.add(layers.MaxPooling2D((2, 2)))\n",
    "model.add(layers.Conv2D(128, (3, 3), activation = 'relu'))\n",
    "model.add(layers.MaxPooling2D((2, 2)))\n",
    "model.add(layers.Flatten())\n",
    "model.add(layers.Dense(512, activation = 'relu'))\n",
    "model.add(layers.Dense(1, activation = 'sigmoid'))\n",
    "\n",
    "model.summary()"
   ]
  },
  {
   "cell_type": "code",
   "execution_count": 3,
   "metadata": {},
   "outputs": [
    {
     "name": "stdout",
     "output_type": "stream",
     "text": [
      "WARNING:tensorflow:From /home/starflyyy/.local/lib/python3.6/site-packages/tensorflow/python/ops/nn_impl.py:180: add_dispatch_support.<locals>.wrapper (from tensorflow.python.ops.array_ops) is deprecated and will be removed in a future version.\n",
      "Instructions for updating:\n",
      "Use tf.where in 2.0, which has the same broadcast rule as np.where\n"
     ]
    }
   ],
   "source": [
    "from keras import optimizers\n",
    "model.compile(loss = 'binary_crossentropy', optimizer = optimizers.RMSprop(lr = 1e-4), metrics = ['acc'])"
   ]
  },
  {
   "cell_type": "code",
   "execution_count": 4,
   "metadata": {},
   "outputs": [],
   "source": [
    "train_dir =  '/home/starflyyy/Deep learning/Dog_vs_cats/split_into_train_vali_test/train'\n",
    "\n",
    "validation_dir =  '/home/starflyyy/Deep learning/Dog_vs_cats/split_into_train_vali_test/validation'\n",
    "\n",
    "test_dir =  '/home/starflyyy/Deep learning/Dog_vs_cats/split_into_train_vali_test/test'"
   ]
  },
  {
   "cell_type": "code",
   "execution_count": 5,
   "metadata": {},
   "outputs": [
    {
     "name": "stdout",
     "output_type": "stream",
     "text": [
      "Found 16000 images belonging to 2 classes.\n"
     ]
    }
   ],
   "source": [
    "# Using ImageDataGenerator to read images from directories\n",
    "from keras.preprocessing.image import ImageDataGenerator\n",
    "\n",
    "train_datagen = ImageDataGenerator(rescale = 1. / 255)\n",
    "test_datagen = ImageDataGenerator(rescale = 1. / 255)\n",
    "\n",
    "train_generator = train_datagen.flow_from_directory(train_dir, target_size = (150, 150), batch_size = 20, class_mode = 'binary')"
   ]
  },
  {
   "cell_type": "code",
   "execution_count": 6,
   "metadata": {},
   "outputs": [
    {
     "name": "stdout",
     "output_type": "stream",
     "text": [
      "Found 5000 images belonging to 2 classes.\n"
     ]
    }
   ],
   "source": [
    "validation_generator = test_datagen.flow_from_directory(validation_dir, target_size = (150, 150), batch_size = 20, class_mode = 'binary')"
   ]
  },
  {
   "cell_type": "code",
   "execution_count": 7,
   "metadata": {},
   "outputs": [
    {
     "name": "stdout",
     "output_type": "stream",
     "text": [
      "data batch shape: (20, 150, 150, 3)\n",
      "labels batch shape: (20,)\n"
     ]
    }
   ],
   "source": [
    "for data_batch, labels_batch in train_generator:\n",
    "    print('data batch shape:', data_batch.shape)\n",
    "    print('labels batch shape:', labels_batch.shape)\n",
    "    break"
   ]
  },
  {
   "cell_type": "code",
   "execution_count": 8,
   "metadata": {},
   "outputs": [
    {
     "name": "stdout",
     "output_type": "stream",
     "text": [
      "WARNING:tensorflow:From /home/starflyyy/.local/lib/python3.6/site-packages/keras/backend/tensorflow_backend.py:422: The name tf.global_variables is deprecated. Please use tf.compat.v1.global_variables instead.\n",
      "\n",
      "Epoch 1/30\n",
      "400/400 [==============================] - 97s 242ms/step - loss: 0.6490 - acc: 0.6131 - val_loss: 0.6718 - val_acc: 0.6952\n",
      "Epoch 2/30\n",
      "400/400 [==============================] - 136s 341ms/step - loss: 0.5661 - acc: 0.7003 - val_loss: 0.6986 - val_acc: 0.7020\n",
      "Epoch 3/30\n",
      "400/400 [==============================] - 18s 44ms/step - loss: 0.5227 - acc: 0.7406 - val_loss: 0.6073 - val_acc: 0.7644\n",
      "Epoch 4/30\n",
      "400/400 [==============================] - 18s 45ms/step - loss: 0.4812 - acc: 0.7680 - val_loss: 0.4246 - val_acc: 0.7760\n",
      "Epoch 5/30\n",
      "400/400 [==============================] - 18s 45ms/step - loss: 0.4506 - acc: 0.7884 - val_loss: 0.7357 - val_acc: 0.7916\n",
      "Epoch 6/30\n",
      "400/400 [==============================] - 18s 45ms/step - loss: 0.4357 - acc: 0.7999 - val_loss: 0.3735 - val_acc: 0.8252\n",
      "Epoch 7/30\n",
      "400/400 [==============================] - 18s 45ms/step - loss: 0.4143 - acc: 0.8106 - val_loss: 0.4833 - val_acc: 0.8208\n",
      "Epoch 8/30\n",
      "400/400 [==============================] - 18s 46ms/step - loss: 0.3941 - acc: 0.8213 - val_loss: 0.5989 - val_acc: 0.8276\n",
      "Epoch 9/30\n",
      "400/400 [==============================] - 18s 45ms/step - loss: 0.3752 - acc: 0.8309 - val_loss: 0.4228 - val_acc: 0.8200\n",
      "Epoch 10/30\n",
      "400/400 [==============================] - 18s 45ms/step - loss: 0.3608 - acc: 0.8395 - val_loss: 0.3100 - val_acc: 0.7804\n",
      "Epoch 11/30\n",
      "400/400 [==============================] - 18s 46ms/step - loss: 0.3365 - acc: 0.8539 - val_loss: 0.3547 - val_acc: 0.8292\n",
      "Epoch 12/30\n",
      "400/400 [==============================] - 18s 46ms/step - loss: 0.3424 - acc: 0.8479 - val_loss: 0.5038 - val_acc: 0.8452\n",
      "Epoch 13/30\n",
      "400/400 [==============================] - 18s 46ms/step - loss: 0.3104 - acc: 0.8641 - val_loss: 0.3603 - val_acc: 0.8464\n",
      "Epoch 14/30\n",
      "400/400 [==============================] - 19s 48ms/step - loss: 0.3078 - acc: 0.8690 - val_loss: 0.1036 - val_acc: 0.8524\n",
      "Epoch 15/30\n",
      "400/400 [==============================] - 20s 50ms/step - loss: 0.2837 - acc: 0.8737 - val_loss: 0.2213 - val_acc: 0.8380\n",
      "Epoch 16/30\n",
      "400/400 [==============================] - 20s 49ms/step - loss: 0.2835 - acc: 0.8789 - val_loss: 0.1948 - val_acc: 0.8620\n",
      "Epoch 17/30\n",
      "400/400 [==============================] - 19s 47ms/step - loss: 0.2549 - acc: 0.8915 - val_loss: 0.4303 - val_acc: 0.8424\n",
      "Epoch 18/30\n",
      "400/400 [==============================] - 19s 47ms/step - loss: 0.2526 - acc: 0.8924 - val_loss: 0.1561 - val_acc: 0.8488\n",
      "Epoch 19/30\n",
      "400/400 [==============================] - 19s 47ms/step - loss: 0.2246 - acc: 0.9074 - val_loss: 0.3369 - val_acc: 0.8644\n",
      "Epoch 20/30\n",
      "400/400 [==============================] - 19s 47ms/step - loss: 0.2212 - acc: 0.9086 - val_loss: 0.4579 - val_acc: 0.8508\n",
      "Epoch 21/30\n",
      "400/400 [==============================] - 19s 47ms/step - loss: 0.1947 - acc: 0.9218 - val_loss: 0.5988 - val_acc: 0.8596\n",
      "Epoch 22/30\n",
      "400/400 [==============================] - 19s 47ms/step - loss: 0.2021 - acc: 0.9160 - val_loss: 0.6454 - val_acc: 0.8460\n",
      "Epoch 23/30\n",
      "400/400 [==============================] - 19s 47ms/step - loss: 0.1738 - acc: 0.9276 - val_loss: 0.2260 - val_acc: 0.8596\n",
      "Epoch 24/30\n",
      "400/400 [==============================] - 19s 47ms/step - loss: 0.1667 - acc: 0.9342 - val_loss: 0.6176 - val_acc: 0.8472\n",
      "Epoch 25/30\n",
      "400/400 [==============================] - 19s 47ms/step - loss: 0.1467 - acc: 0.9413 - val_loss: 0.0285 - val_acc: 0.8588\n",
      "Epoch 26/30\n",
      "400/400 [==============================] - 19s 49ms/step - loss: 0.1486 - acc: 0.9398 - val_loss: 0.2624 - val_acc: 0.8508\n",
      "Epoch 27/30\n",
      "400/400 [==============================] - 19s 46ms/step - loss: 0.1221 - acc: 0.9516 - val_loss: 0.1913 - val_acc: 0.8544\n",
      "Epoch 28/30\n",
      "400/400 [==============================] - 19s 47ms/step - loss: 0.1267 - acc: 0.9505 - val_loss: 0.0667 - val_acc: 0.8612\n",
      "Epoch 29/30\n",
      "400/400 [==============================] - 19s 47ms/step - loss: 0.1027 - acc: 0.9606 - val_loss: 0.8283 - val_acc: 0.8608\n",
      "Epoch 30/30\n",
      "400/400 [==============================] - 19s 47ms/step - loss: 0.1035 - acc: 0.9606 - val_loss: 0.8746 - val_acc: 0.8528\n"
     ]
    }
   ],
   "source": [
    "history = model.fit_generator(train_generator, steps_per_epoch = 400, epocfrom keras import models\n",
    "\n",
    "from keras import layers\n",
    "\n",
    "​\n",
    "\n",
    "model = models.Sequential()\n",
    "\n",
    "model.add(layers.C)\n",
    "\n",
    "hs = 30, validation_data = validation_generator, validation_steps = 125)"
   ]
  },
  {
   "cell_type": "code",
   "execution_count": 9,
   "metadata": {},
   "outputs": [],
   "source": [
    "model.save('cat_and_dogs_small_1.h5')"
   ]
  },
  {
   "cell_type": "code",
   "execution_count": 10,
   "metadata": {},
   "outputs": [
    {
     "data": {
      "text/plain": [
       "dict_keys(['val_loss', 'val_acc', 'loss', 'acc'])"
      ]
     },
     "execution_count": 10,
     "metadata": {},
     "output_type": "execute_result"
    }
   ],
   "source": [
    "history.history.keys()"
   ]
  },
  {
   "cell_type": "code",
   "execution_count": 11,
   "metadata": {},
   "outputs": [
    {
     "data": {
      "image/png": "[encoded data removed]",
      "text/plain": [
       "<matplotlib.figure.Figure at 0x7fb2846e7160>"
      ]
     },
     "metadata": {
      "needs_background": "light"
     },
     "output_type": "display_data"
    },
    {
     "data": {
      "image/png": "[encoded data removed]",
      "text/plain": [
       "<matplotlib.figure.Figure at 0x7fb230407a58>"
      ]
     },
     "metadata": {
      "needs_background": "light"
     },
     "output_type": "display_data"
    }
   ],
   "source": [
    "import matplotlib.pyplot as plt\n",
    "\n",
    "%matplotlib inline\n",
    "\n",
    "acc = history.history['acc']\n",
    "val_acc = history.history['val_acc']\n",
    "loss = history.history['loss']\n",
    "val_loss = history.history['val_loss']\n",
    "\n",
    "epochs = range(1, 31)\n",
    "\n",
    "plt.plot(epochs, acc, 'bo', label = 'Training acc')\n",
    "plt.plot(epochs, val_acc, 'b', label = 'Validation acc')\n",
    "plt.title('Training and validation accuracy')\n",
    "plt.legend()\n",
    "\n",
    "plt.figure()\n",
    "\n",
    "plt.plot(epochs, loss, 'bo', label = 'Training loss')\n",
    "plt.plot(epochs, val_loss, 'b', label = 'Validation loss')\n",
    "plt.title('Training and validation loss')\n",
    "plt.legend()\n",
    "\n",
    "plt.show()"
   ]
  },
  {
   "cell_type": "code",
   "execution_count": null,
   "metadata": {},
   "outputs": [],
   "source": []
  }
 ],
 "metadata": {
  "kernelspec": {
   "display_name": "Python 3",
   "language": "python",
   "name": "python3"
  },
  "language_info": {
   "codemirror_mode": {
    "name": "ipython",
    "version": 3
   },
   "file_extension": ".py",
   "mimetype": "text/x-python",
   "name": "python",
   "nbconvert_exporter": "python",
   "pygments_lexer": "ipython3",
   "version": "3.6.8"
  }
 },
 "nbformat": 4,
 "nbformat_minor": 2
}
