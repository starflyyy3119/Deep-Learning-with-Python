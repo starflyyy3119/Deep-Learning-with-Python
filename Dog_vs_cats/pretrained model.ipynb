{
 "cells": [
  {
   "cell_type": "code",
   "execution_count": 1,
   "metadata": {},
   "outputs": [],
   "source": [
    "import warnings\n",
    "warnings.filterwarnings('ignore')"
   ]
  },
  {
   "cell_type": "code",
   "execution_count": 2,
   "metadata": {},
   "outputs": [
    {
     "name": "stderr",
     "output_type": "stream",
     "text": [
      "Using TensorFlow backend.\n"
     ]
    },
    {
     "name": "stdout",
     "output_type": "stream",
     "text": [
      "WARNING:tensorflow:From /home/starflyyy/.local/lib/python3.6/site-packages/keras/backend/tensorflow_backend.py:4070: The name tf.nn.max_pool is deprecated. Please use tf.nn.max_pool2d instead.\n",
      "\n",
      "Downloading data from https://github.com/fchollet/deep-learning-models/releases/download/v0.1/vgg16_weights_tf_dim_ordering_tf_kernels_notop.h5\n",
      "58892288/58889256 [==============================] - 60s 1us/step\n",
      "Model: \"vgg16\"\n",
      "_________________________________________________________________\n",
      "Layer (type)                 Output Shape              Param #   \n",
      "=================================================================\n",
      "input_1 (InputLayer)         (None, 150, 150, 3)       0         \n",
      "_________________________________________________________________\n",
      "block1_conv1 (Conv2D)        (None, 150, 150, 64)      1792      \n",
      "_________________________________________________________________\n",
      "block1_conv2 (Conv2D)        (None, 150, 150, 64)      36928     \n",
      "_________________________________________________________________\n",
      "block1_pool (MaxPooling2D)   (None, 75, 75, 64)        0         \n",
      "_________________________________________________________________\n",
      "block2_conv1 (Conv2D)        (None, 75, 75, 128)       73856     \n",
      "_________________________________________________________________\n",
      "block2_conv2 (Conv2D)        (None, 75, 75, 128)       147584    \n",
      "_________________________________________________________________\n",
      "block2_pool (MaxPooling2D)   (None, 37, 37, 128)       0         \n",
      "_________________________________________________________________\n",
      "block3_conv1 (Conv2D)        (None, 37, 37, 256)       295168    \n",
      "_________________________________________________________________\n",
      "block3_conv2 (Conv2D)        (None, 37, 37, 256)       590080    \n",
      "_________________________________________________________________\n",
      "block3_conv3 (Conv2D)        (None, 37, 37, 256)       590080    \n",
      "_________________________________________________________________\n",
      "block3_pool (MaxPooling2D)   (None, 18, 18, 256)       0         \n",
      "_________________________________________________________________\n",
      "block4_conv1 (Conv2D)        (None, 18, 18, 512)       1180160   \n",
      "_________________________________________________________________\n",
      "block4_conv2 (Conv2D)        (None, 18, 18, 512)       2359808   \n",
      "_________________________________________________________________\n",
      "block4_conv3 (Conv2D)        (None, 18, 18, 512)       2359808   \n",
      "_________________________________________________________________\n",
      "block4_pool (MaxPooling2D)   (None, 9, 9, 512)         0         \n",
      "_________________________________________________________________\n",
      "block5_conv1 (Conv2D)        (None, 9, 9, 512)         2359808   \n",
      "_________________________________________________________________\n",
      "block5_conv2 (Conv2D)        (None, 9, 9, 512)         2359808   \n",
      "_________________________________________________________________\n",
      "block5_conv3 (Conv2D)        (None, 9, 9, 512)         2359808   \n",
      "_________________________________________________________________\n",
      "block5_pool (MaxPooling2D)   (None, 4, 4, 512)         0         \n",
      "=================================================================\n",
      "Total params: 14,714,688\n",
      "Trainable params: 14,714,688\n",
      "Non-trainable params: 0\n",
      "_________________________________________________________________\n"
     ]
    }
   ],
   "source": [
    "from keras.applications import VGG16\n",
    "\n",
    "conv_base = VGG16(weights = 'imagenet', include_top = False, input_shape = (150, 150, 3))\n",
    "conv_base.summary()"
   ]
  },
  {
   "cell_type": "code",
   "execution_count": 3,
   "metadata": {},
   "outputs": [],
   "source": [
    "import os \n",
    "import numpy as np\n",
    "from keras.preprocessing.image import ImageDataGenerator\n",
    "\n",
    "base_dir = '/home/starflyyy/Deep learning/Dog_vs_cats/split_into_train_vali_test'\n",
    "train_dir = os.path.join(base_dir, 'train')\n",
    "validation_dir = os.path.join(base_dir, 'validation')\n",
    "test_dir = os.path.join(base_dir, 'test')\n",
    "\n",
    "datagen = ImageDataGenerator(rescale = 1. / 255)\n",
    "batch_size = 20\n",
    "\n",
    "def extract_features(directory, sample_count):\n",
    "    features = np.zeros(shape = (sample_count, 4, 4, 512))\n",
    "    labels = np.zeros(shape = (sample_count))\n",
    "    generator = datagen.flow_from_directory(directory, target_size = (150, 150), batch_size = batch_size, class_mode = 'binary')\n",
    "    \n",
    "    i = 0\n",
    "    for inputs_batch, labels_batch in generator:\n",
    "        features_batch = conv_base.predict(inputs_batch)\n",
    "        features[i * batch_size : (i+1) * batch_size] = features_batch\n",
    "        labels[i * batch_size : (i+1) * batch_size] = labels_batch\n",
    "        i += 1\n",
    "        if i * batch_size >= sample_count:\n",
    "            break\n",
    "    return features, labels"
   ]
  },
  {
   "cell_type": "code",
   "execution_count": 4,
   "metadata": {},
   "outputs": [
    {
     "name": "stdout",
     "output_type": "stream",
     "text": [
      "Found 16000 images belonging to 2 classes.\n",
      "WARNING:tensorflow:From /home/starflyyy/.local/lib/python3.6/site-packages/keras/backend/tensorflow_backend.py:422: The name tf.global_variables is deprecated. Please use tf.compat.v1.global_variables instead.\n",
      "\n",
      "Found 5000 images belonging to 2 classes.\n",
      "Found 4000 images belonging to 2 classes.\n"
     ]
    }
   ],
   "source": [
    "train_features, train_labels = extract_features(train_dir, 8000)\n",
    "validation_features, validation_labels = extract_features(validation_dir, 2500)\n",
    "test_features, test_labels = extract_features(test_dir, 2000)"
   ]
  },
  {
   "cell_type": "code",
   "execution_count": 5,
   "metadata": {},
   "outputs": [],
   "source": [
    "train_features = np.reshape(train_features, (8000, 4 * 4 * 512))\n",
    "validation_features = np.reshape(validation_features, (2500, 4 * 4 * 512))\n",
    "test_features = np.reshape(test_features, (2000, 4 * 4 * 512))"
   ]
  },
  {
   "cell_type": "code",
   "execution_count": 6,
   "metadata": {},
   "outputs": [
    {
     "name": "stdout",
     "output_type": "stream",
     "text": [
      "WARNING:tensorflow:From /home/starflyyy/.local/lib/python3.6/site-packages/tensorflow/python/ops/nn_impl.py:180: add_dispatch_support.<locals>.wrapper (from tensorflow.python.ops.array_ops) is deprecated and will be removed in a future version.\n",
      "Instructions for updating:\n",
      "Use tf.where in 2.0, which has the same broadcast rule as np.where\n",
      "Train on 8000 samples, validate on 2500 samples\n",
      "Epoch 1/30\n",
      "8000/8000 [==============================] - 5s 569us/step - loss: 0.4443 - acc: 0.7834 - val_loss: 0.3102 - val_acc: 0.8756\n",
      "Epoch 2/30\n",
      "8000/8000 [==============================] - 2s 300us/step - loss: 0.3079 - acc: 0.8629 - val_loss: 0.2713 - val_acc: 0.8928\n",
      "Epoch 3/30\n",
      "8000/8000 [==============================] - 2s 310us/step - loss: 0.2690 - acc: 0.8821 - val_loss: 0.2515 - val_acc: 0.8996\n",
      "Epoch 4/30\n",
      "8000/8000 [==============================] - 2s 251us/step - loss: 0.2430 - acc: 0.8957 - val_loss: 0.2413 - val_acc: 0.9044\n",
      "Epoch 5/30\n",
      "8000/8000 [==============================] - 2s 258us/step - loss: 0.2264 - acc: 0.9046 - val_loss: 0.2391 - val_acc: 0.9036\n",
      "Epoch 6/30\n",
      "8000/8000 [==============================] - 2s 274us/step - loss: 0.2169 - acc: 0.9089 - val_loss: 0.2310 - val_acc: 0.9100\n",
      "Epoch 7/30\n",
      "8000/8000 [==============================] - 2s 286us/step - loss: 0.2034 - acc: 0.9156 - val_loss: 0.2259 - val_acc: 0.9060\n",
      "Epoch 8/30\n",
      "8000/8000 [==============================] - 2s 263us/step - loss: 0.1942 - acc: 0.9168 - val_loss: 0.2227 - val_acc: 0.9100\n",
      "Epoch 9/30\n",
      "8000/8000 [==============================] - 2s 246us/step - loss: 0.1850 - acc: 0.9219 - val_loss: 0.2227 - val_acc: 0.9080\n",
      "Epoch 10/30\n",
      "8000/8000 [==============================] - 2s 280us/step - loss: 0.1779 - acc: 0.9252 - val_loss: 0.2209 - val_acc: 0.9128\n",
      "Epoch 11/30\n",
      "8000/8000 [==============================] - 2s 256us/step - loss: 0.1738 - acc: 0.9262 - val_loss: 0.2240 - val_acc: 0.9100\n",
      "Epoch 12/30\n",
      "8000/8000 [==============================] - 2s 268us/step - loss: 0.1678 - acc: 0.9306 - val_loss: 0.2184 - val_acc: 0.9124\n",
      "Epoch 13/30\n",
      "8000/8000 [==============================] - 2s 257us/step - loss: 0.1616 - acc: 0.9358 - val_loss: 0.2209 - val_acc: 0.9104\n",
      "Epoch 14/30\n",
      "8000/8000 [==============================] - 2s 270us/step - loss: 0.1559 - acc: 0.9376 - val_loss: 0.2173 - val_acc: 0.9144\n",
      "Epoch 15/30\n",
      "8000/8000 [==============================] - 2s 287us/step - loss: 0.1499 - acc: 0.9431 - val_loss: 0.2186 - val_acc: 0.9148\n",
      "Epoch 16/30\n",
      "8000/8000 [==============================] - 2s 284us/step - loss: 0.1454 - acc: 0.9444 - val_loss: 0.2191 - val_acc: 0.9148\n",
      "Epoch 17/30\n",
      "8000/8000 [==============================] - 2s 263us/step - loss: 0.1406 - acc: 0.9463 - val_loss: 0.2203 - val_acc: 0.9140\n",
      "Epoch 18/30\n",
      "8000/8000 [==============================] - 2s 257us/step - loss: 0.1383 - acc: 0.9475 - val_loss: 0.2241 - val_acc: 0.9160\n",
      "Epoch 19/30\n",
      "8000/8000 [==============================] - 2s 295us/step - loss: 0.1325 - acc: 0.9507 - val_loss: 0.2217 - val_acc: 0.9152\n",
      "Epoch 20/30\n",
      "8000/8000 [==============================] - 2s 295us/step - loss: 0.1299 - acc: 0.9520 - val_loss: 0.2205 - val_acc: 0.9108\n",
      "Epoch 21/30\n",
      "8000/8000 [==============================] - 2s 279us/step - loss: 0.1237 - acc: 0.9540 - val_loss: 0.2223 - val_acc: 0.9140\n",
      "Epoch 22/30\n",
      "8000/8000 [==============================] - 2s 267us/step - loss: 0.1201 - acc: 0.9553 - val_loss: 0.2219 - val_acc: 0.9144\n",
      "Epoch 23/30\n",
      "8000/8000 [==============================] - 2s 249us/step - loss: 0.1156 - acc: 0.9582 - val_loss: 0.2243 - val_acc: 0.9136\n",
      "Epoch 24/30\n",
      "8000/8000 [==============================] - 2s 274us/step - loss: 0.1134 - acc: 0.9590 - val_loss: 0.2254 - val_acc: 0.9144\n",
      "Epoch 25/30\n",
      "8000/8000 [==============================] - 2s 261us/step - loss: 0.1098 - acc: 0.9580 - val_loss: 0.2272 - val_acc: 0.9128\n",
      "Epoch 26/30\n",
      "8000/8000 [==============================] - 2s 262us/step - loss: 0.1057 - acc: 0.9621 - val_loss: 0.2305 - val_acc: 0.9168\n",
      "Epoch 27/30\n",
      "8000/8000 [==============================] - 2s 252us/step - loss: 0.1026 - acc: 0.9634 - val_loss: 0.2417 - val_acc: 0.9188\n",
      "Epoch 28/30\n",
      "8000/8000 [==============================] - 2s 257us/step - loss: 0.1020 - acc: 0.9628 - val_loss: 0.2327 - val_acc: 0.9132\n",
      "Epoch 29/30\n",
      "8000/8000 [==============================] - 2s 255us/step - loss: 0.0995 - acc: 0.9649 - val_loss: 0.2306 - val_acc: 0.9156\n",
      "Epoch 30/30\n",
      "8000/8000 [==============================] - 2s 259us/step - loss: 0.0951 - acc: 0.9680 - val_loss: 0.2321 - val_acc: 0.9136\n"
     ]
    }
   ],
   "source": [
    "from keras import models\n",
    "from keras import layers\n",
    "from keras import optimizers\n",
    "\n",
    "model = models.Sequential()\n",
    "model.add(layers.Dense(256, activation = 'relu', input_dim = 4 * 4 * 512))\n",
    "model.add(layers.Dropout(0.5))\n",
    "model.add(layers.Dense(1, activation = 'sigmoid'))\n",
    "\n",
    "model.compile(optimizer = optimizers.RMSprop(lr = 2e-5), loss = 'binary_crossentropy', metrics = ['acc'])\n",
    "history = model.fit(train_features, train_labels, epochs = 30, batch_size = 20, validation_data = (validation_features, validation_labels))\n"
   ]
  },
  {
   "cell_type": "code",
   "execution_count": 7,
   "metadata": {},
   "outputs": [
    {
     "data": {
      "image/png": "[encoded data removed]",
      "text/plain": [
       "<matplotlib.figure.Figure at 0x7fb1f54cb4a8>"
      ]
     },
     "metadata": {
      "needs_background": "light"
     },
     "output_type": "display_data"
    },
    {
     "data": {
      "image/png": "[encoded data removed]",
      "text/plain": [
       "<matplotlib.figure.Figure at 0x7fb1d00ff860>"
      ]
     },
     "metadata": {
      "needs_background": "light"
     },
     "output_type": "display_data"
    }
   ],
   "source": [
    "import matplotlib.pyplot as plt\n",
    "%matplotlib inline\n",
    "acc = history.history['acc']\n",
    "val_acc = history.history['val_acc']\n",
    "loss = history.history['loss']\n",
    "val_loss = history.history['val_loss']\n",
    "\n",
    "epochs = range(1, 31)\n",
    "\n",
    "plt.plot(epochs, acc, 'bo', label = 'Training acc')\n",
    "plt.plot(epochs, val_acc, 'b', label = 'Validation acc')\n",
    "plt.title('Training and validation accuracy')\n",
    "plt.legend()\n",
    "\n",
    "plt.figure()\n",
    "\n",
    "plt.plot(epochs, loss, 'bo', label = 'Training loss')\n",
    "plt.plot(epochs, val_loss, 'b', label = 'Validation loss')\n",
    "plt.title('Training and validation loss')\n",
    "plt.legend()\n",
    "\n",
    "plt.show()\n"
   ]
  },
  {
   "cell_type": "code",
   "execution_count": 9,
   "metadata": {},
   "outputs": [
    {
     "name": "stdout",
     "output_type": "stream",
     "text": [
      "Model: \"sequential_3\"\n",
      "_________________________________________________________________\n",
      "Layer (type)                 Output Shape              Param #   \n",
      "=================================================================\n",
      "vgg16 (Model)                (None, 4, 4, 512)         14714688  \n",
      "_________________________________________________________________\n",
      "flatten_2 (Flatten)          (None, 8192)              0         \n",
      "_________________________________________________________________\n",
      "dense_5 (Dense)              (None, 256)               2097408   \n",
      "_________________________________________________________________\n",
      "dense_6 (Dense)              (None, 1)                 257       \n",
      "=================================================================\n",
      "Total params: 16,812,353\n",
      "Trainable params: 16,812,353\n",
      "Non-trainable params: 0\n",
      "_________________________________________________________________\n"
     ]
    }
   ],
   "source": [
    "from keras import models\n",
    "from keras import layers\n",
    "\n",
    "model = models.Sequential()\n",
    "model.add(conv_base)\n",
    "model.add(layers.Flatten())\n",
    "model.add(layers.Dense(256, activation = 'relu'))\n",
    "model.add(layers.Dense(1, activation = 'sigmoid'))\n",
    "model.summary()"
   ]
  },
  {
   "cell_type": "code",
   "execution_count": 12,
   "metadata": {},
   "outputs": [
    {
     "data": {
      "text/plain": [
       "30"
      ]
     },
     "execution_count": 12,
     "metadata": {},
     "output_type": "execute_result"
    }
   ],
   "source": [
    "len(model.trainable_weights)"
   ]
  },
  {
   "cell_type": "code",
   "execution_count": 13,
   "metadata": {},
   "outputs": [
    {
     "data": {
      "text/plain": [
       "4"
      ]
     },
     "execution_count": 13,
     "metadata": {},
     "output_type": "execute_result"
    }
   ],
   "source": [
    "conv_base.trainable = False\n",
    "len(model.trainable_weights)"
   ]
  },
  {
   "cell_type": "code",
   "execution_count": 14,
   "metadata": {},
   "outputs": [
    {
     "name": "stdout",
     "output_type": "stream",
     "text": [
      "Found 16000 images belonging to 2 classes.\n",
      "Found 5000 images belonging to 2 classes.\n",
      "Epoch 1/30\n",
      "400/400 [==============================] - 78s 195ms/step - loss: 0.4945 - acc: 0.7741 - val_loss: 0.3861 - val_acc: 0.8592\n",
      "Epoch 2/30\n",
      "400/400 [==============================] - 76s 189ms/step - loss: 0.3895 - acc: 0.8246 - val_loss: 0.2411 - val_acc: 0.8928\n",
      "Epoch 3/30\n",
      "400/400 [==============================] - 67s 168ms/step - loss: 0.3575 - acc: 0.8378 - val_loss: 0.2130 - val_acc: 0.8972\n",
      "Epoch 4/30\n",
      "400/400 [==============================] - 68s 169ms/step - loss: 0.3457 - acc: 0.8460 - val_loss: 0.1880 - val_acc: 0.8912\n",
      "Epoch 5/30\n",
      "400/400 [==============================] - 68s 170ms/step - loss: 0.3321 - acc: 0.8561 - val_loss: 0.2072 - val_acc: 0.9008\n",
      "Epoch 6/30\n",
      "400/400 [==============================] - 67s 169ms/step - loss: 0.3295 - acc: 0.8558 - val_loss: 0.1013 - val_acc: 0.9100\n",
      "Epoch 7/30\n",
      "400/400 [==============================] - 67s 169ms/step - loss: 0.3223 - acc: 0.8624 - val_loss: 0.2508 - val_acc: 0.9032\n",
      "Epoch 8/30\n",
      "400/400 [==============================] - 68s 169ms/step - loss: 0.3175 - acc: 0.8624 - val_loss: 0.1431 - val_acc: 0.9052\n",
      "Epoch 9/30\n",
      "400/400 [==============================] - 68s 169ms/step - loss: 0.3216 - acc: 0.8560 - val_loss: 0.3754 - val_acc: 0.9024\n",
      "Epoch 10/30\n",
      "400/400 [==============================] - 68s 169ms/step - loss: 0.3069 - acc: 0.8659 - val_loss: 0.1765 - val_acc: 0.9064\n",
      "Epoch 11/30\n",
      "400/400 [==============================] - 68s 170ms/step - loss: 0.2974 - acc: 0.8677 - val_loss: 0.5902 - val_acc: 0.9088\n",
      "Epoch 12/30\n",
      "400/400 [==============================] - 68s 169ms/step - loss: 0.3115 - acc: 0.8625 - val_loss: 0.2931 - val_acc: 0.9104\n",
      "Epoch 13/30\n",
      "400/400 [==============================] - 68s 169ms/step - loss: 0.2993 - acc: 0.8700 - val_loss: 0.2815 - val_acc: 0.9028\n",
      "Epoch 14/30\n",
      "400/400 [==============================] - 68s 170ms/step - loss: 0.3113 - acc: 0.8599 - val_loss: 0.2416 - val_acc: 0.9176\n",
      "Epoch 15/30\n",
      "400/400 [==============================] - 68s 169ms/step - loss: 0.3024 - acc: 0.8687 - val_loss: 0.0351 - val_acc: 0.9128\n",
      "Epoch 16/30\n",
      "400/400 [==============================] - 68s 169ms/step - loss: 0.3031 - acc: 0.8665 - val_loss: 0.1605 - val_acc: 0.9036\n",
      "Epoch 17/30\n",
      "400/400 [==============================] - 68s 170ms/step - loss: 0.2936 - acc: 0.8699 - val_loss: 0.2577 - val_acc: 0.9096\n",
      "Epoch 18/30\n",
      "400/400 [==============================] - 68s 169ms/step - loss: 0.3022 - acc: 0.8661 - val_loss: 0.1220 - val_acc: 0.9092\n",
      "Epoch 19/30\n",
      "400/400 [==============================] - 68s 170ms/step - loss: 0.2973 - acc: 0.8668 - val_loss: 0.0701 - val_acc: 0.9112\n",
      "Epoch 20/30\n",
      "400/400 [==============================] - 68s 170ms/step - loss: 0.2909 - acc: 0.8698 - val_loss: 0.1008 - val_acc: 0.9116\n",
      "Epoch 21/30\n",
      "400/400 [==============================] - 68s 170ms/step - loss: 0.2960 - acc: 0.8696 - val_loss: 0.3302 - val_acc: 0.9144\n",
      "Epoch 22/30\n",
      "400/400 [==============================] - 68s 170ms/step - loss: 0.2973 - acc: 0.8698 - val_loss: 0.1815 - val_acc: 0.9072\n",
      "Epoch 23/30\n",
      "400/400 [==============================] - 68s 169ms/step - loss: 0.2994 - acc: 0.8700 - val_loss: 0.5290 - val_acc: 0.9140\n",
      "Epoch 24/30\n",
      "400/400 [==============================] - 68s 170ms/step - loss: 0.2912 - acc: 0.8712 - val_loss: 0.1320 - val_acc: 0.9116\n",
      "Epoch 25/30\n",
      "400/400 [==============================] - 68s 170ms/step - loss: 0.2936 - acc: 0.8706 - val_loss: 0.5540 - val_acc: 0.9152\n",
      "Epoch 26/30\n",
      "400/400 [==============================] - 68s 170ms/step - loss: 0.2893 - acc: 0.8724 - val_loss: 0.3185 - val_acc: 0.9132\n",
      "Epoch 27/30\n",
      "400/400 [==============================] - 68s 170ms/step - loss: 0.2902 - acc: 0.8740 - val_loss: 0.1606 - val_acc: 0.9240\n",
      "Epoch 28/30\n",
      "400/400 [==============================] - 68s 170ms/step - loss: 0.2923 - acc: 0.8719 - val_loss: 0.1073 - val_acc: 0.9100\n",
      "Epoch 29/30\n",
      "400/400 [==============================] - 68s 170ms/step - loss: 0.2866 - acc: 0.8737 - val_loss: 0.2729 - val_acc: 0.9160\n",
      "Epoch 30/30\n",
      "400/400 [==============================] - 68s 170ms/step - loss: 0.2876 - acc: 0.8758 - val_loss: 0.1887 - val_acc: 0.9060\n"
     ]
    }
   ],
   "source": [
    "from keras.preprocessing.image import ImageDataGenerator\n",
    "from keras import optimizers\n",
    "\n",
    "train_datagen = ImageDataGenerator(rescale = 1. / 255,\n",
    "                                   rotation_range = 40,\n",
    "                                   width_shift_range = 0.2,\n",
    "                                   height_shift_range = 0.2,\n",
    "                                   shear_range = 0.2,\n",
    "                                   zoom_range = 0.2,\n",
    "                                   horizontal_flip = True,\n",
    "                                   fill_mode = 'nearest')\n",
    "\n",
    "test_datagen = ImageDataGenerator(rescale = 1. /255)\n",
    "\n",
    "train_generator = train_datagen.flow_from_directory(train_dir, target_size = (150, 150), batch_size = 20, class_mode = 'binary')\n",
    "validation_generator = test_datagen.flow_from_directory(validation_dir, target_size = (150, 150), batch_size = 20, class_mode = 'binary')\n",
    "\n",
    "model.compile(loss = 'binary_crossentropy', optimizer = optimizers.RMSprop(lr = 2e-5), metrics = ['acc'])\n",
    "\n",
    "history = model.fit_generator(train_generator, steps_per_epoch = 400, epochs = 30, validation_data = validation_generator, validation_steps = 125)"
   ]
  },
  {
   "cell_type": "code",
   "execution_count": 15,
   "metadata": {},
   "outputs": [
    {
     "data": {
      "image/png": "[encoded data removed]",
      "text/plain": [
       "<matplotlib.figure.Figure at 0x7fb1f54ce6d8>"
      ]
     },
     "metadata": {
      "needs_background": "light"
     },
     "output_type": "display_data"
    },
    {
     "data": {
      "image/png": "[encoded data removed]",
      "text/plain": [
       "<matplotlib.figure.Figure at 0x7fb1f6ab74e0>"
      ]
     },
     "metadata": {
      "needs_background": "light"
     },
     "output_type": "display_data"
    }
   ],
   "source": [
    "import matplotlib.pyplot as plt\n",
    "%matplotlib inline\n",
    "acc = history.history['acc']\n",
    "val_acc = history.history['val_acc']\n",
    "loss = history.history['loss']\n",
    "val_loss = history.history['val_loss']\n",
    "\n",
    "epochs = range(1, 31)\n",
    "\n",
    "plt.plot(epochs, acc, 'bo', label = 'Training acc')\n",
    "plt.plot(epochs, val_acc, 'b', label = 'Validation acc')\n",
    "plt.title('Training and validation accuracy')\n",
    "plt.legend()\n",
    "\n",
    "plt.figure()\n",
    "\n",
    "plt.plot(epochs, loss, 'bo', label = 'Training loss')\n",
    "plt.plot(epochs, val_loss, 'b', label = 'Validation loss')\n",
    "plt.title('Training and validation loss')\n",
    "plt.legend()\n",
    "\n",
    "plt.show()"
   ]
  },
  {
   "cell_type": "code",
   "execution_count": 18,
   "metadata": {},
   "outputs": [
    {
     "name": "stdout",
     "output_type": "stream",
     "text": [
      "Model: \"vgg16\"\n",
      "_________________________________________________________________\n",
      "Layer (type)                 Output Shape              Param #   \n",
      "=================================================================\n",
      "input_1 (InputLayer)         (None, 150, 150, 3)       0         \n",
      "_________________________________________________________________\n",
      "block1_conv1 (Conv2D)        (None, 150, 150, 64)      1792      \n",
      "_________________________________________________________________\n",
      "block1_conv2 (Conv2D)        (None, 150, 150, 64)      36928     \n",
      "_________________________________________________________________\n",
      "block1_pool (MaxPooling2D)   (None, 75, 75, 64)        0         \n",
      "_________________________________________________________________\n",
      "block2_conv1 (Conv2D)        (None, 75, 75, 128)       73856     \n",
      "_________________________________________________________________\n",
      "block2_conv2 (Conv2D)        (None, 75, 75, 128)       147584    \n",
      "_________________________________________________________________\n",
      "block2_pool (MaxPooling2D)   (None, 37, 37, 128)       0         \n",
      "_________________________________________________________________\n",
      "block3_conv1 (Conv2D)        (None, 37, 37, 256)       295168    \n",
      "_________________________________________________________________\n",
      "block3_conv2 (Conv2D)        (None, 37, 37, 256)       590080    \n",
      "_________________________________________________________________\n",
      "block3_conv3 (Conv2D)        (None, 37, 37, 256)       590080    \n",
      "_________________________________________________________________\n",
      "block3_pool (MaxPooling2D)   (None, 18, 18, 256)       0         \n",
      "_________________________________________________________________\n",
      "block4_conv1 (Conv2D)        (None, 18, 18, 512)       1180160   \n",
      "_________________________________________________________________\n",
      "block4_conv2 (Conv2D)        (None, 18, 18, 512)       2359808   \n",
      "_________________________________________________________________\n",
      "block4_conv3 (Conv2D)        (None, 18, 18, 512)       2359808   \n",
      "_________________________________________________________________\n",
      "block4_pool (MaxPooling2D)   (None, 9, 9, 512)         0         \n",
      "_________________________________________________________________\n",
      "block5_conv1 (Conv2D)        (None, 9, 9, 512)         2359808   \n",
      "_________________________________________________________________\n",
      "block5_conv2 (Conv2D)        (None, 9, 9, 512)         2359808   \n",
      "_________________________________________________________________\n",
      "block5_conv3 (Conv2D)        (None, 9, 9, 512)         2359808   \n",
      "_________________________________________________________________\n",
      "block5_pool (MaxPooling2D)   (None, 4, 4, 512)         0         \n",
      "=================================================================\n",
      "Total params: 14,714,688\n",
      "Trainable params: 0\n",
      "Non-trainable params: 14,714,688\n",
      "_________________________________________________________________\n"
     ]
    }
   ],
   "source": [
    "conv_base.summary()"
   ]
  },
  {
   "cell_type": "code",
   "execution_count": 19,
   "metadata": {},
   "outputs": [
    {
     "name": "stdout",
     "output_type": "stream",
     "text": [
      "Model: \"vgg16\"\n",
      "_________________________________________________________________\n",
      "Layer (type)                 Output Shape              Param #   \n",
      "=================================================================\n",
      "input_1 (InputLayer)         (None, 150, 150, 3)       0         \n",
      "_________________________________________________________________\n",
      "block1_conv1 (Conv2D)        (None, 150, 150, 64)      1792      \n",
      "_________________________________________________________________\n",
      "block1_conv2 (Conv2D)        (None, 150, 150, 64)      36928     \n",
      "_________________________________________________________________\n",
      "block1_pool (MaxPooling2D)   (None, 75, 75, 64)        0         \n",
      "_________________________________________________________________\n",
      "block2_conv1 (Conv2D)        (None, 75, 75, 128)       73856     \n",
      "_________________________________________________________________\n",
      "block2_conv2 (Conv2D)        (None, 75, 75, 128)       147584    \n",
      "_________________________________________________________________\n",
      "block2_pool (MaxPooling2D)   (None, 37, 37, 128)       0         \n",
      "_________________________________________________________________\n",
      "block3_conv1 (Conv2D)        (None, 37, 37, 256)       295168    \n",
      "_________________________________________________________________\n",
      "block3_conv2 (Conv2D)        (None, 37, 37, 256)       590080    \n",
      "_________________________________________________________________\n",
      "block3_conv3 (Conv2D)        (None, 37, 37, 256)       590080    \n",
      "_________________________________________________________________\n",
      "block3_pool (MaxPooling2D)   (None, 18, 18, 256)       0         \n",
      "_________________________________________________________________\n",
      "block4_conv1 (Conv2D)        (None, 18, 18, 512)       1180160   \n",
      "_________________________________________________________________\n",
      "block4_conv2 (Conv2D)        (None, 18, 18, 512)       2359808   \n",
      "_________________________________________________________________\n",
      "block4_conv3 (Conv2D)        (None, 18, 18, 512)       2359808   \n",
      "_________________________________________________________________\n",
      "block4_pool (MaxPooling2D)   (None, 9, 9, 512)         0         \n",
      "_________________________________________________________________\n",
      "block5_conv1 (Conv2D)        (None, 9, 9, 512)         2359808   \n",
      "_________________________________________________________________\n",
      "block5_conv2 (Conv2D)        (None, 9, 9, 512)         2359808   \n",
      "_________________________________________________________________\n",
      "block5_conv3 (Conv2D)        (None, 9, 9, 512)         2359808   \n",
      "_________________________________________________________________\n",
      "block5_pool (MaxPooling2D)   (None, 4, 4, 512)         0         \n",
      "=================================================================\n",
      "Total params: 14,714,688\n",
      "Trainable params: 7,079,424\n",
      "Non-trainable params: 7,635,264\n",
      "_________________________________________________________________\n"
     ]
    }
   ],
   "source": [
    "conv_base.trainable = True\n",
    "\n",
    "set_trainable = False\n",
    "for layer in conv_base.layers:\n",
    "    if layer.name == 'block5_conv1':\n",
    "        set_trainable = True\n",
    "    if set_trainable:\n",
    "        layer.trainable = True\n",
    "    else:\n",
    "        layer.trainable = False\n",
    "\n",
    "conv_base.summary()"
   ]
  },
  {
   "cell_type": "code",
   "execution_count": 20,
   "metadata": {},
   "outputs": [
    {
     "name": "stdout",
     "output_type": "stream",
     "text": [
      "Model: \"sequential_3\"\n",
      "_________________________________________________________________\n",
      "Layer (type)                 Output Shape              Param #   \n",
      "=================================================================\n",
      "vgg16 (Model)                (None, 4, 4, 512)         14714688  \n",
      "_________________________________________________________________\n",
      "flatten_2 (Flatten)          (None, 8192)              0         \n",
      "_________________________________________________________________\n",
      "dense_5 (Dense)              (None, 256)               2097408   \n",
      "_________________________________________________________________\n",
      "dense_6 (Dense)              (None, 1)                 257       \n",
      "=================================================================\n",
      "Total params: 9,732,929\n",
      "Trainable params: 2,097,665\n",
      "Non-trainable params: 7,635,264\n",
      "_________________________________________________________________\n"
     ]
    }
   ],
   "source": [
    "model.summary()"
   ]
  },
  {
   "cell_type": "code",
   "execution_count": 21,
   "metadata": {},
   "outputs": [
    {
     "name": "stdout",
     "output_type": "stream",
     "text": [
      "Epoch 1/30\n",
      "400/400 [==============================] - 78s 194ms/step - loss: 0.2818 - acc: 0.8795 - val_loss: 0.0328 - val_acc: 0.9252\n",
      "Epoch 2/30\n",
      "400/400 [==============================] - 79s 197ms/step - loss: 0.2507 - acc: 0.8963 - val_loss: 0.0250 - val_acc: 0.9324\n",
      "Epoch 3/30\n",
      "400/400 [==============================] - 79s 197ms/step - loss: 0.2331 - acc: 0.9001 - val_loss: 0.1549 - val_acc: 0.9136\n",
      "Epoch 4/30\n",
      "400/400 [==============================] - 88s 221ms/step - loss: 0.2115 - acc: 0.9141 - val_loss: 0.2479 - val_acc: 0.9516\n",
      "Epoch 5/30\n",
      "400/400 [==============================] - 82s 205ms/step - loss: 0.1950 - acc: 0.9191 - val_loss: 0.1611 - val_acc: 0.9420\n",
      "Epoch 6/30\n",
      "400/400 [==============================] - 81s 202ms/step - loss: 0.1990 - acc: 0.9161 - val_loss: 0.0405 - val_acc: 0.9416\n",
      "Epoch 7/30\n",
      "400/400 [==============================] - 81s 202ms/step - loss: 0.1753 - acc: 0.9266 - val_loss: 0.2769 - val_acc: 0.9412\n",
      "Epoch 8/30\n",
      "400/400 [==============================] - 81s 203ms/step - loss: 0.1871 - acc: 0.9219 - val_loss: 0.3357 - val_acc: 0.9368\n",
      "Epoch 9/30\n",
      "400/400 [==============================] - 82s 204ms/step - loss: 0.1671 - acc: 0.9356 - val_loss: 0.1213 - val_acc: 0.9464\n",
      "Epoch 10/30\n",
      "400/400 [==============================] - 81s 204ms/step - loss: 0.1768 - acc: 0.9251 - val_loss: 0.1483 - val_acc: 0.9344\n",
      "Epoch 11/30\n",
      "400/400 [==============================] - 81s 204ms/step - loss: 0.1551 - acc: 0.9369 - val_loss: 0.1835 - val_acc: 0.9276\n",
      "Epoch 12/30\n",
      "400/400 [==============================] - 82s 204ms/step - loss: 0.1656 - acc: 0.9364 - val_loss: 0.0816 - val_acc: 0.9132\n",
      "Epoch 13/30\n",
      "400/400 [==============================] - 80s 200ms/step - loss: 0.1520 - acc: 0.9389 - val_loss: 0.1926 - val_acc: 0.9392\n",
      "Epoch 14/30\n",
      "400/400 [==============================] - 80s 199ms/step - loss: 0.1447 - acc: 0.9401 - val_loss: 0.0170 - val_acc: 0.9492\n",
      "Epoch 15/30\n",
      "400/400 [==============================] - 79s 198ms/step - loss: 0.1327 - acc: 0.9449 - val_loss: 0.0745 - val_acc: 0.9516\n",
      "Epoch 16/30\n",
      "400/400 [==============================] - 79s 199ms/step - loss: 0.1484 - acc: 0.9391 - val_loss: 0.1743 - val_acc: 0.9444\n",
      "Epoch 17/30\n",
      "400/400 [==============================] - 79s 198ms/step - loss: 0.1386 - acc: 0.9480 - val_loss: 0.2022 - val_acc: 0.9544\n",
      "Epoch 18/30\n",
      "400/400 [==============================] - 79s 197ms/step - loss: 0.1341 - acc: 0.9465 - val_loss: 0.0128 - val_acc: 0.9416\n",
      "Epoch 19/30\n",
      "400/400 [==============================] - 79s 198ms/step - loss: 0.1307 - acc: 0.9501 - val_loss: 0.0045 - val_acc: 0.9512\n",
      "Epoch 20/30\n",
      "400/400 [==============================] - 80s 200ms/step - loss: 0.1367 - acc: 0.9466 - val_loss: 0.3695 - val_acc: 0.9524\n",
      "Epoch 21/30\n",
      "400/400 [==============================] - 79s 198ms/step - loss: 0.1205 - acc: 0.9531 - val_loss: 0.5710 - val_acc: 0.9480\n",
      "Epoch 22/30\n",
      "400/400 [==============================] - 79s 198ms/step - loss: 0.1249 - acc: 0.9520 - val_loss: 0.0425 - val_acc: 0.9576\n",
      "Epoch 23/30\n",
      "400/400 [==============================] - 78s 196ms/step - loss: 0.1257 - acc: 0.9496 - val_loss: 0.0149 - val_acc: 0.9568\n",
      "Epoch 24/30\n",
      "400/400 [==============================] - 78s 196ms/step - loss: 0.1255 - acc: 0.9507 - val_loss: 0.3506 - val_acc: 0.9548\n",
      "Epoch 25/30\n",
      "400/400 [==============================] - 78s 196ms/step - loss: 0.1187 - acc: 0.9513 - val_loss: 0.2433 - val_acc: 0.9500\n",
      "Epoch 26/30\n",
      "400/400 [==============================] - 79s 197ms/step - loss: 0.1168 - acc: 0.9578 - val_loss: 0.0881 - val_acc: 0.9536\n",
      "Epoch 27/30\n",
      "400/400 [==============================] - 80s 200ms/step - loss: 0.1104 - acc: 0.9581 - val_loss: 0.0219 - val_acc: 0.9580\n",
      "Epoch 28/30\n",
      "400/400 [==============================] - 79s 196ms/step - loss: 0.1272 - acc: 0.9530 - val_loss: 0.0742 - val_acc: 0.9528\n",
      "Epoch 29/30\n",
      "400/400 [==============================] - 78s 196ms/step - loss: 0.1148 - acc: 0.9584 - val_loss: 0.0551 - val_acc: 0.9592\n",
      "Epoch 30/30\n",
      "400/400 [==============================] - 79s 197ms/step - loss: 0.1126 - acc: 0.9579 - val_loss: 0.1011 - val_acc: 0.9544\n"
     ]
    }
   ],
   "source": [
    "model.compile(loss = 'binary_crossentropy', optimizer = optimizers.RMSprop(lr = 1e-5), metrics = ['acc'])\n",
    "history = model.fit_generator(train_generator, steps_per_epoch = 400, epochs = 30, validation_data = validation_generator, validation_steps = 125)\n"
   ]
  },
  {
   "cell_type": "code",
   "execution_count": 22,
   "metadata": {},
   "outputs": [
    {
     "name": "stdout",
     "output_type": "stream",
     "text": [
      "Found 4000 images belonging to 2 classes.\n",
      "test acc: 0.9474999904632568\n"
     ]
    }
   ],
   "source": [
    "test_generator = test_datagen.flow_from_directory(test_dir,\n",
    "                                                  target_size = (150, 150),\n",
    "                                                  batch_size = 20,\n",
    "                                                  class_mode = 'binary')\n",
    "\n",
    "test_loss, test_acc = model.evaluate_generator(test_generator, steps = 100)\n",
    "print('test acc:', test_acc)"
   ]
  }
 ],
 "metadata": {
  "kernelspec": {
   "display_name": "Python 3",
   "language": "python",
   "name": "python3"
  },
  "language_info": {
   "codemirror_mode": {
    "name": "ipython",
    "version": 3
   },
   "file_extension": ".py",
   "mimetype": "text/x-python",
   "name": "python",
   "nbconvert_exporter": "python",
   "pygments_lexer": "ipython3",
   "version": "3.6.8"
  }
 },
 "nbformat": 4,
 "nbformat_minor": 2
}
